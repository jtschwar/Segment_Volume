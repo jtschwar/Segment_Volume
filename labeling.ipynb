{
 "cells": [
  {
   "cell_type": "markdown",
   "metadata": {},
   "source": [
    "#### Load Modules (Custom Module - segment)"
   ]
  },
  {
   "cell_type": "code",
   "execution_count": 1,
   "metadata": {},
   "outputs": [],
   "source": [
    "%matplotlib widget\n",
    "\n",
    "import matplotlib.pyplot as plt\n",
    "import segment as seg\n",
    "import numpy as np\n",
    "import h5py"
   ]
  },
  {
   "cell_type": "markdown",
   "metadata": {},
   "source": [
    "#### Run Segmentation Module Widget"
   ]
  },
  {
   "cell_type": "code",
   "execution_count": 2,
   "metadata": {},
   "outputs": [
    {
     "data": {
      "application/vnd.jupyter.widget-view+json": {
       "model_id": "fbd3a33e9502479080b53bcadedd058c",
       "version_major": 2,
       "version_minor": 0
      },
      "text/plain": [
       "VBox(children=(HBox(children=(Button(button_style='success', description='lasso select', icon='mouse-pointer',…"
      ]
     },
     "metadata": {},
     "output_type": "display_data"
    },
    {
     "name": "stdout",
     "output_type": "stream",
     "text": [
      "Saved Data Under the Following File Name:  seg_au_sto.h5\n"
     ]
    }
   ],
   "source": [
    "plt.close('all')\n",
    "\n",
    "# Read File with Reconstruction / Volume to be segmented.\n",
    "file = h5py.File('au_sto.h5','r')\n",
    "vol = file['recon']\n",
    "\n",
    "# File Name for saved volume\n",
    "saveName = 'seg_au_sto.h5'\n",
    "\n",
    "# Display Segmenter (default number of classes is 1, binary segmentation)\n",
    "obj = seg.image_segmenter(vol, save_name=saveName)\n",
    "\n",
    "# Additional Options: \n",
    "# Input number of classes or provide a list of class names\n",
    "# Can slice along y/z (0), x/z (1), or x/y (2) axis\n",
    "# obj = seg.image_segmenter(vol, save_name=saveName, classes=['ClassA','ClassB','ClassC'])\n",
    "display(obj)"
   ]
  },
  {
   "cell_type": "code",
   "execution_count": null,
   "metadata": {},
   "outputs": [],
   "source": []
  }
 ],
 "metadata": {
  "kernelspec": {
   "display_name": "Python 3.9.12 64-bit",
   "language": "python",
   "name": "python3"
  },
  "language_info": {
   "codemirror_mode": {
    "name": "ipython",
    "version": 3
   },
   "file_extension": ".py",
   "mimetype": "text/x-python",
   "name": "python",
   "nbconvert_exporter": "python",
   "pygments_lexer": "ipython3",
   "version": "3.9.12"
  },
  "orig_nbformat": 4,
  "vscode": {
   "interpreter": {
    "hash": "7a792fcb311f9eb9f3c1b942a8c87ada8484712b89b670347c16a1088e0a1f69"
   }
  }
 },
 "nbformat": 4,
 "nbformat_minor": 2
}
